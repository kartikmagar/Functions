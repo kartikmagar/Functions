{
  "nbformat": 4,
  "nbformat_minor": 0,
  "metadata": {
    "colab": {
      "provenance": []
    },
    "kernelspec": {
      "name": "python3",
      "display_name": "Python 3"
    },
    "language_info": {
      "name": "python"
    }
  },
  "cells": [
    {
      "cell_type": "markdown",
      "source": [
        "# Functions Assignment"
      ],
      "metadata": {
        "id": "2alkhCFt9oFV"
      }
    },
    {
      "cell_type": "markdown",
      "source": [
        "## Theory Questions:"
      ],
      "metadata": {
        "id": "zjVEeW9i-M6w"
      }
    },
    {
      "cell_type": "markdown",
      "source": [
        "1. What is the difference between a function and a method in python?\n",
        "\n",
        "-> a function is the block of reusable code that perfroms some specific task and function can be define by def keyword.\n",
        "a method is a function that is associated with and object (usually part of the class)"
      ],
      "metadata": {
        "id": "D033zyeT-ac_"
      }
    },
    {
      "cell_type": "code",
      "source": [
        "# Example:\n",
        "def greet():\n",
        "    return \"hello\"\n",
        "class person:\n",
        "    def say_hello(self):\n",
        "        return \"hello from the method\""
      ],
      "metadata": {
        "id": "j0rxetGhA0s5"
      },
      "execution_count": 4,
      "outputs": []
    },
    {
      "cell_type": "markdown",
      "source": [
        "2 . Explain the concept of function arguments and parameters in python?\n",
        "\n",
        "-> parameters are variable listed in a function definition.\n",
        "aregument are value passed to a function when it is called."
      ],
      "metadata": {
        "id": "kcBTLXNACApK"
      }
    },
    {
      "cell_type": "code",
      "source": [
        "# Example\n",
        "def add(a,b): # a and b are parameters\n",
        "    return a + b\n",
        "add(5,3) # 5 and 3 are arguments"
      ],
      "metadata": {
        "id": "CDhOyZUyBj2D"
      },
      "execution_count": null,
      "outputs": []
    },
    {
      "cell_type": "markdown",
      "source": [
        "3. what are different ways to define and call a function in python?\n",
        "\n",
        "-> function can be defined using def or lambda.\n",
        "they are called by using their name followed by parentheses."
      ],
      "metadata": {
        "id": "lQqG_rv3Dulx"
      }
    },
    {
      "cell_type": "code",
      "source": [
        "# Example\n",
        "def square(x):\n",
        "    return x * x\n",
        "\n",
        "print(square(4))"
      ],
      "metadata": {
        "id": "5mMge9IDEmIb"
      },
      "execution_count": null,
      "outputs": []
    },
    {
      "cell_type": "markdown",
      "source": [
        "4. what is the purpose of the returns statment in a python function?\n",
        "\n",
        "-> it is used to send a result back to the caller and exit the function."
      ],
      "metadata": {
        "id": "Howh2zpsE0nI"
      }
    },
    {
      "cell_type": "code",
      "source": [
        "# Example\n",
        "def multiply(x,y):\n",
        "    return x * y\n",
        "\n",
        "result = multiply(2,3)"
      ],
      "metadata": {
        "id": "76_NSOzpF0X-"
      },
      "execution_count": null,
      "outputs": []
    },
    {
      "cell_type": "markdown",
      "source": [
        "5. what are iterators in python and how do they differ from iterables?\n",
        "\n",
        "-> an iterator is an object with __inter__() and __next__()\n",
        "methods.\n",
        "an iterable is an object that can return an iterator(like a list)."
      ],
      "metadata": {
        "id": "jk2ZTgj8GOTw"
      }
    },
    {
      "cell_type": "code",
      "source": [
        "# example\n",
        "my_list = [1, 2, 3]\n",
        "it = iter(my_list)\n",
        "print(next(it))"
      ],
      "metadata": {
        "id": "6J_l8hmbHL2f"
      },
      "execution_count": null,
      "outputs": []
    },
    {
      "cell_type": "markdown",
      "source": [
        "6. Exaplain the concept of generators in puthon and how they are defined.\n",
        "\n",
        "-> generators are functions that yeild values on the at a time using the yeild keyword."
      ],
      "metadata": {
        "id": "Kepi-t1gJ3DF"
      }
    },
    {
      "cell_type": "code",
      "source": [
        "from re import I\n",
        "# Example\n",
        "def count_up_to(n):\n",
        "    i = 1\n",
        "    while i <= n:\n",
        "        yield i\n",
        "        i += 1"
      ],
      "metadata": {
        "id": "GyxdGPP6Kdaf"
      },
      "execution_count": 6,
      "outputs": []
    },
    {
      "cell_type": "markdown",
      "source": [
        "7. what are the advantages of using generators over regular functions?\n",
        "\n",
        "-> they are memory-efficient beacuse they yield items one at a time.\n",
        "useful for large datassets or infinite sequences"
      ],
      "metadata": {
        "id": "6WiyX-52LGOu"
      }
    },
    {
      "cell_type": "code",
      "source": [
        "#example\n",
        "gen = count_up_to(3)\n",
        "print(next(gen)) # 1"
      ],
      "metadata": {
        "id": "oG8SOPpMMfdu"
      },
      "execution_count": null,
      "outputs": []
    },
    {
      "cell_type": "markdown",
      "source": [
        "8. what is a lambda function in python and when is it typically used?\n",
        "\n",
        "-> a lambda function is a anonymous, single-expersion function."
      ],
      "metadata": {
        "id": "MjbF5i9cNlvh"
      }
    },
    {
      "cell_type": "code",
      "source": [
        "square = lambda x: x * x\n",
        "print(square(5)) # 25"
      ],
      "metadata": {
        "id": "EfHMXCU-OIom"
      },
      "execution_count": null,
      "outputs": []
    },
    {
      "cell_type": "markdown",
      "source": [
        "9. explain the purpose and usage of the map() function in  python?\n",
        "\n",
        "-> the map() function applies a give function to all items in a iterable (like a list)\n",
        "synatx: map(function, itrable)"
      ],
      "metadata": {
        "id": "0sdIghYRQKGJ"
      }
    },
    {
      "cell_type": "code",
      "source": [
        "nums = [1, 2, 3, 4]\n",
        "squares = list(map(lambda x:x**2,numbes))\n",
        "print(squares) # [1, 4, 9, 16]"
      ],
      "metadata": {
        "id": "JcyVEHAVWQN1"
      },
      "execution_count": null,
      "outputs": []
    },
    {
      "cell_type": "markdown",
      "source": [
        "10. what is the difference between map(), reduce(), and filter() function in python?\n",
        "\n",
        "-> 1. map()>> applies a function to each item >> transfromed iterable\n",
        "2. filter()>> filter items using a condition >> filtered iterable\n",
        "3. reduce()>> appplis function cumulatively >> a singh value    "
      ],
      "metadata": {
        "id": "dRtpbeF3XCu9"
      }
    },
    {
      "cell_type": "code",
      "source": [
        "# Example\n",
        "from functools import reduce\n",
        "nums = [1, 2, 3, 4, 5]\n",
        "\n",
        "# map\n",
        "mapped = list(map(lambda x : x*2,nums)) # [1, 4, 6, 8, 10]\n",
        "\n",
        "# filter\n",
        "filtered = list(filter(lambda x:x % 2==0, nums)) # [2,4]\n",
        "\n",
        "# reduce\n",
        "summed = reduce(lambda x,y: x + y, nums) # 15"
      ],
      "metadata": {
        "id": "7CHTH3e9YxUv"
      },
      "execution_count": null,
      "outputs": []
    },
    {
      "cell_type": "markdown",
      "source": [
        "11. internal mechanism for sum using reduce() on list [47, 11, 42, 13]\n",
        "\n",
        "step-by-step internal process:\n",
        "x = 47, y = 11 -> 58\n",
        "x = 58, y = 42 -> 100\n",
        "x = 100, y = 13 -> 113\n",
        "final result : 113"
      ],
      "metadata": {
        "id": "nQxoSRQBaW3x"
      }
    },
    {
      "cell_type": "code",
      "source": [
        "# Example\n",
        "from function import reduce\n",
        "reduce(lambda x, y:x + y,[47, 11, 42, 13])"
      ],
      "metadata": {
        "id": "-n3a9VkpbbLo"
      },
      "execution_count": null,
      "outputs": []
    },
    {
      "cell_type": "markdown",
      "source": [
        "# Practical Questions:"
      ],
      "metadata": {
        "id": "WNJ50Zvcb3Q8"
      }
    },
    {
      "cell_type": "code",
      "source": [
        "# 1.\n",
        "def sum_even_numbers(numbers):\n",
        "    return sum(num for num in numbers if num % 2 ==0)\n",
        "\n",
        "print(sum_even_numbers([1, 2, 3, 4, 5, 6]))"
      ],
      "metadata": {
        "colab": {
          "base_uri": "https://localhost:8080/"
        },
        "id": "_2VcNdz9eYC8",
        "outputId": "5a110f24-23d9-4046-acae-d65878bdd737"
      },
      "execution_count": 1,
      "outputs": [
        {
          "output_type": "stream",
          "name": "stdout",
          "text": [
            "12\n"
          ]
        }
      ]
    },
    {
      "cell_type": "code",
      "source": [
        "# 2.\n",
        "def reverse_string(s):\n",
        "    return s[::-1]\n",
        "print(reverse_string(\"hello\"))"
      ],
      "metadata": {
        "colab": {
          "base_uri": "https://localhost:8080/"
        },
        "id": "C70np9R4gWe7",
        "outputId": "b6264782-b0cd-4dda-f503-a390a23957c1"
      },
      "execution_count": 2,
      "outputs": [
        {
          "output_type": "stream",
          "name": "stdout",
          "text": [
            "olleh\n"
          ]
        }
      ]
    },
    {
      "cell_type": "code",
      "source": [
        "# 3.\n",
        "def square_list(numbers):\n",
        "    return[num ** 2 for num in numbers]\n",
        "\n",
        "print(square_list([1, 2, 3]))"
      ],
      "metadata": {
        "colab": {
          "base_uri": "https://localhost:8080/"
        },
        "id": "hEdKrhZsg5Kf",
        "outputId": "171f2f23-d064-4d7d-d7b3-d759e067fdd4"
      },
      "execution_count": 3,
      "outputs": [
        {
          "output_type": "stream",
          "name": "stdout",
          "text": [
            "[1, 4, 9]\n"
          ]
        }
      ]
    },
    {
      "cell_type": "code",
      "source": [
        "# 4.\n",
        "def is_prime(n):\n",
        "    if n <= 1:\n",
        "        return False\n",
        "    for i in range(2, int(n **0.5)+1):\n",
        "        if n % 1 == 0:\n",
        "            return False\n",
        "    return True\n",
        "print(is_prime(7))\n"
      ],
      "metadata": {
        "colab": {
          "base_uri": "https://localhost:8080/"
        },
        "id": "w_Gwm0gDiIPc",
        "outputId": "dd05a361-4290-460d-ca2c-30837e8d3571"
      },
      "execution_count": 4,
      "outputs": [
        {
          "output_type": "stream",
          "name": "stdout",
          "text": [
            "False\n"
          ]
        }
      ]
    },
    {
      "cell_type": "code",
      "source": [
        "# 5.\n",
        "class Fibonacci:\n",
        "    def __init__(self, max_terms):\n",
        "        self.max_terms = max_terms\n",
        "        self.a, self.b = 0, 1\n",
        "        self.count = 0\n",
        "\n",
        "    def __iter__(self):\n",
        "        return self\n",
        "\n",
        "    def __next__(self):\n",
        "        if self.count >= self.max_terms:\n",
        "           raise StopIteration\n",
        "        self.a, self.b = self.b, self.a + self.b\n",
        "        self.count += 1\n",
        "        return self.a\n",
        "for num in Fibonacci(5):\n",
        "    print(num)"
      ],
      "metadata": {
        "colab": {
          "base_uri": "https://localhost:8080/"
        },
        "id": "_Rn9b9-zjB0K",
        "outputId": "a4b05817-ce6e-4795-b3b2-ab830f7157c0"
      },
      "execution_count": 8,
      "outputs": [
        {
          "output_type": "stream",
          "name": "stdout",
          "text": [
            "1\n",
            "1\n",
            "2\n",
            "3\n",
            "5\n"
          ]
        }
      ]
    },
    {
      "cell_type": "code",
      "source": [
        "# 6.\n",
        "def powers_of_two(n):\n",
        "    for i in range(n + 1):\n",
        "        yield 2 ** i\n",
        "\n",
        "for val in powers_of_two(4):\n",
        "    print(val)"
      ],
      "metadata": {
        "colab": {
          "base_uri": "https://localhost:8080/"
        },
        "id": "72W_XL-bmsHt",
        "outputId": "f944a45b-6c56-49d0-8e73-c01cfb662334"
      },
      "execution_count": 9,
      "outputs": [
        {
          "output_type": "stream",
          "name": "stdout",
          "text": [
            "1\n",
            "2\n",
            "4\n",
            "8\n",
            "16\n"
          ]
        }
      ]
    },
    {
      "cell_type": "code",
      "source": [
        "# 7.\n",
        "def read_file_lines(files_path):\n",
        "    with open(file_path,'r') as file:\n",
        "        for line in file:\n",
        "            yield line.strip()\n",
        "# example usage\n",
        "# for line in read_file_line(\"sample.txt\"):\n",
        "# print(line)"
      ],
      "metadata": {
        "id": "uY_Fm9McnL4u"
      },
      "execution_count": 5,
      "outputs": []
    },
    {
      "cell_type": "code",
      "source": [
        "# 8.\n",
        "data = [(\"apple\",3),(\"banana\",1),(\"cherry\",2)]\n",
        "sorted_data = sorted(data,key=lambda x:x[1])\n",
        "print(sorted_data)"
      ],
      "metadata": {
        "colab": {
          "base_uri": "https://localhost:8080/"
        },
        "id": "8CdznWi9F7WN",
        "outputId": "bf8c0c37-0cf3-47b5-ab7b-04b49319bf4b"
      },
      "execution_count": 6,
      "outputs": [
        {
          "output_type": "stream",
          "name": "stdout",
          "text": [
            "[('banana', 1), ('cherry', 2), ('apple', 3)]\n"
          ]
        }
      ]
    },
    {
      "cell_type": "code",
      "source": [
        "# 9.\n",
        "celsius = [0, 10, 20, 30]\n",
        "fahrenheit = list(map(lambda c:(c * 9/5) + 32, celsius))\n",
        "print(fahrenheit)"
      ],
      "metadata": {
        "colab": {
          "base_uri": "https://localhost:8080/"
        },
        "id": "dshy7GTWNk42",
        "outputId": "54b72d60-c49f-4220-a770-b408b8727cbb"
      },
      "execution_count": 7,
      "outputs": [
        {
          "output_type": "stream",
          "name": "stdout",
          "text": [
            "[32.0, 50.0, 68.0, 86.0]\n"
          ]
        }
      ]
    },
    {
      "cell_type": "code",
      "source": [
        "# 10\n",
        "def remove_vowels(string):\n",
        "    return ''.join(filter(lambda c:c.lower()not in 'aeiou', string))\n",
        "print(remove_vowels(\"hello World\"))"
      ],
      "metadata": {
        "colab": {
          "base_uri": "https://localhost:8080/"
        },
        "id": "kGABkIREOL8W",
        "outputId": "a92df975-9880-42eb-f57f-2d3170c2af51"
      },
      "execution_count": 8,
      "outputs": [
        {
          "output_type": "stream",
          "name": "stdout",
          "text": [
            "hll Wrld\n"
          ]
        }
      ]
    },
    {
      "cell_type": "code",
      "source": [
        "# 11.\n",
        "orders = [\n",
        "    [34587,\"learning python, mark lutz\", 4, 40.95],\n",
        "    [98762, \"programming python, marks lutz\", 5, 56.08],\n",
        "    [77226, \"head first python, paul barry\", 3, 32.95],\n",
        "    [88112, \"einfuhrung in python3, bernd klein\", 3, 24.99]\n",
        "]\n",
        "def process_orders(order_list):\n",
        "    return list(map(lambda x:(x[0], round(x[2]* x[3],2)),order_list))\n",
        "print(process_orders(orders))"
      ],
      "metadata": {
        "colab": {
          "base_uri": "https://localhost:8080/"
        },
        "id": "69IIlQz-O64F",
        "outputId": "91e3414b-c5c9-4e3c-f9ba-22ece5b209ae"
      },
      "execution_count": 10,
      "outputs": [
        {
          "output_type": "stream",
          "name": "stdout",
          "text": [
            "[(34587, 163.8), (98762, 280.4), (77226, 98.85), (88112, 74.97)]\n"
          ]
        }
      ]
    }
  ]
}